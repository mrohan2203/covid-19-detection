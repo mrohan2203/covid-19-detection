{
 "cells": [
  {
   "cell_type": "markdown",
   "id": "51aef6a9-73ba-4b02-92d3-a407a036eb08",
   "metadata": {},
   "source": [
    "## COVID-19 Detection from CT scans"
   ]
  },
  {
   "cell_type": "markdown",
   "id": "3aeac43e-48e3-45e3-ae5e-32591e35d0a5",
   "metadata": {},
   "source": [
    "The objective of this project is to develop a model that detects COVID-19 infections from chest CT scans."
   ]
  },
  {
   "cell_type": "markdown",
   "id": "89b89358-a9d9-4631-94e3-3ba02c19a21e",
   "metadata": {},
   "source": [
    "## 1. Data collection"
   ]
  },
  {
   "cell_type": "code",
   "execution_count": 1,
   "id": "e808053d-d366-48bc-b2f8-1f66cc166aa5",
   "metadata": {
    "tags": []
   },
   "outputs": [
    {
     "name": "stdout",
     "output_type": "stream",
     "text": [
      "Requirement already satisfied: opencv-python in /Users/rohanmuru/anaconda3/lib/python3.11/site-packages (4.9.0.80)\n",
      "Requirement already satisfied: numpy>=1.21.2 in /Users/rohanmuru/anaconda3/lib/python3.11/site-packages (from opencv-python) (1.24.3)\n"
     ]
    }
   ],
   "source": [
    "!pip3 install opencv-python"
   ]
  },
  {
   "cell_type": "code",
   "execution_count": 2,
   "id": "d0fb7b1a-52f7-413c-91d9-d403c3aa8148",
   "metadata": {
    "tags": []
   },
   "outputs": [
    {
     "name": "stderr",
     "output_type": "stream",
     "text": [
      "2024-05-26 14:19:06.743385: I tensorflow/core/platform/cpu_feature_guard.cc:182] This TensorFlow binary is optimized to use available CPU instructions in performance-critical operations.\n",
      "To enable the following instructions: AVX2 FMA, in other operations, rebuild TensorFlow with the appropriate compiler flags.\n"
     ]
    }
   ],
   "source": [
    "#import the necessary libraries\n",
    "import os\n",
    "import cv2\n",
    "import numpy as np\n",
    "from sklearn.model_selection import train_test_split\n",
    "from tensorflow.keras.preprocessing.image import ImageDataGenerator"
   ]
  },
  {
   "cell_type": "code",
   "execution_count": 3,
   "id": "7d989698-ab4d-454c-bcdc-98e36506de90",
   "metadata": {
    "tags": []
   },
   "outputs": [],
   "source": [
    "# Define paths\n",
    "data_dir = '/Users/rohanmuru/Projects/COVID-19 Detection using CT scans/archive/'\n",
    "covid_dir = os.path.join(data_dir, 'COVID')\n",
    "non_covid_dir = os.path.join(data_dir, 'non-COVID')"
   ]
  },
  {
   "cell_type": "code",
   "execution_count": 4,
   "id": "4bb1ec39-f19c-443c-b98c-1c8d7e82647a",
   "metadata": {
    "tags": []
   },
   "outputs": [],
   "source": [
    "#image resize parameters\n",
    "img_size = (224, 224)"
   ]
  },
  {
   "cell_type": "code",
   "execution_count": 5,
   "id": "9edcaa0b-240e-4ae0-af03-f6d31a77de03",
   "metadata": {
    "tags": []
   },
   "outputs": [],
   "source": [
    "# Load and preprocess images\n",
    "def load_images_from_folder(folder, label):\n",
    "    images = []\n",
    "    labels = []\n",
    "    for filename in os.listdir(folder):\n",
    "        img_path = os.path.join(folder, filename)\n",
    "        img = cv2.imread(img_path)\n",
    "        if img is not None:\n",
    "            img = cv2.resize(img, img_size)\n",
    "            img = img / 255.0  # Normalize to [0, 1]\n",
    "            images.append(img)\n",
    "            labels.append(label)\n",
    "    return images, labels"
   ]
  },
  {
   "cell_type": "code",
   "execution_count": 6,
   "id": "03b7f2d2-fbf9-40f3-87ba-66e390bb4cdc",
   "metadata": {
    "tags": []
   },
   "outputs": [],
   "source": [
    "# Load COVID images\n",
    "covid_images, covid_labels = load_images_from_folder(covid_dir, 1)\n",
    "\n",
    "# Load Non-COVID images\n",
    "non_covid_images, non_covid_labels = load_images_from_folder(non_covid_dir, 0)"
   ]
  },
  {
   "cell_type": "code",
   "execution_count": 7,
   "id": "362d228a-c035-4bda-a8d4-511cf2e5d9d1",
   "metadata": {
    "tags": []
   },
   "outputs": [],
   "source": [
    "# Combine data\n",
    "images = np.array(covid_images + non_covid_images)\n",
    "labels = np.array(covid_labels + non_covid_labels)"
   ]
  },
  {
   "cell_type": "code",
   "execution_count": 8,
   "id": "e02758b4-5f31-4ff8-b1a4-a11a9cd63844",
   "metadata": {
    "tags": []
   },
   "outputs": [],
   "source": [
    "# Split data into training and validation sets\n",
    "X_train, X_val, y_train, y_val = train_test_split(images, labels, test_size=0.2, random_state=42, stratify=labels)"
   ]
  },
  {
   "cell_type": "code",
   "execution_count": 9,
   "id": "66d38f49-da10-4cef-a070-9bdcc5f1a73f",
   "metadata": {
    "tags": []
   },
   "outputs": [],
   "source": [
    "# Data Augmentation\n",
    "datagen = ImageDataGenerator(\n",
    "    rotation_range=15,\n",
    "    width_shift_range=0.1,\n",
    "    height_shift_range=0.1,\n",
    "    shear_range=0.1,\n",
    "    zoom_range=0.1,\n",
    "    horizontal_flip=True,\n",
    "    fill_mode='nearest'\n",
    ")"
   ]
  },
  {
   "cell_type": "code",
   "execution_count": 10,
   "id": "3bfbe354-eb7e-45e0-a86f-69da64ba36bd",
   "metadata": {
    "tags": []
   },
   "outputs": [
    {
     "name": "stdout",
     "output_type": "stream",
     "text": [
      "Training set: 1984 samples\n",
      "Validation set: 497 samples\n"
     ]
    }
   ],
   "source": [
    "print(f'Training set: {X_train.shape[0]} samples')\n",
    "print(f'Validation set: {X_val.shape[0]} samples')"
   ]
  },
  {
   "cell_type": "markdown",
   "id": "308db077-3f3b-4ef0-8e45-57b38b0fa0c0",
   "metadata": {},
   "source": [
    "## 2. Model Building"
   ]
  },
  {
   "cell_type": "code",
   "execution_count": 11,
   "id": "0a008636-4573-43b3-83b6-a1c6a519637d",
   "metadata": {},
   "outputs": [],
   "source": [
    "#importing the necessary libraries\n",
    "import tensorflow as tf\n",
    "from tensorflow.keras.applications import VGG16\n",
    "from tensorflow.keras.models import Model\n",
    "from tensorflow.keras.layers import Dense, Flatten, Dropout, GlobalAveragePooling2D\n",
    "from tensorflow.keras.optimizers import Adam\n",
    "from tensorflow.keras.preprocessing.image import ImageDataGenerator"
   ]
  },
  {
   "cell_type": "code",
   "execution_count": 12,
   "id": "75ea8c3b-cb3e-4637-adfc-4e202cb9fd4d",
   "metadata": {
    "tags": []
   },
   "outputs": [
    {
     "name": "stdout",
     "output_type": "stream",
     "text": [
      "Downloading data from https://storage.googleapis.com/tensorflow/keras-applications/vgg16/vgg16_weights_tf_dim_ordering_tf_kernels_notop.h5\n",
      "58889256/58889256 [==============================] - 2s 0us/step\n"
     ]
    }
   ],
   "source": [
    "# Load the VGG16 model with pre-trained ImageNet weights, excluding the top (classification) layers\n",
    "base_model = VGG16(weights='imagenet', include_top=False, input_shape=(224, 224, 3))"
   ]
  },
  {
   "cell_type": "code",
   "execution_count": 13,
   "id": "0e9679df-7929-40c1-9034-2428a3bc2417",
   "metadata": {
    "tags": []
   },
   "outputs": [],
   "source": [
    "# Add custom layers on top of the base model\n",
    "x = base_model.output\n",
    "x = GlobalAveragePooling2D()(x)\n",
    "x = Dense(1024, activation='relu')(x)\n",
    "x = Dropout(0.5)(x)\n",
    "predictions = Dense(1, activation='sigmoid')(x)  # Binary classification (COVID-19 or Non-COVID)"
   ]
  },
  {
   "cell_type": "code",
   "execution_count": 14,
   "id": "c5514d2d-fac1-45f5-8884-b18e5fce9937",
   "metadata": {
    "tags": []
   },
   "outputs": [],
   "source": [
    "# Create the final model\n",
    "model = Model(inputs=base_model.input, outputs=predictions)"
   ]
  },
  {
   "cell_type": "code",
   "execution_count": 15,
   "id": "d8d2e9ec-f45f-44e8-9d21-02a44e5718b2",
   "metadata": {
    "tags": []
   },
   "outputs": [],
   "source": [
    "# Freeze the base model layers\n",
    "for layer in base_model.layers:\n",
    "    layer.trainable = False\n"
   ]
  },
  {
   "cell_type": "code",
   "execution_count": 16,
   "id": "601232ba-0d07-4339-876a-eceae681fd44",
   "metadata": {
    "tags": []
   },
   "outputs": [],
   "source": [
    "# Compile the model\n",
    "model.compile(optimizer=Adam(learning_rate=0.001), loss='binary_crossentropy', metrics=['accuracy'])"
   ]
  },
  {
   "cell_type": "code",
   "execution_count": 17,
   "id": "9a036198-1222-4f69-a9db-7527a6e26787",
   "metadata": {
    "tags": []
   },
   "outputs": [
    {
     "name": "stdout",
     "output_type": "stream",
     "text": [
      "Model: \"model\"\n",
      "_________________________________________________________________\n",
      " Layer (type)                Output Shape              Param #   \n",
      "=================================================================\n",
      " input_1 (InputLayer)        [(None, 224, 224, 3)]     0         \n",
      "                                                                 \n",
      " block1_conv1 (Conv2D)       (None, 224, 224, 64)      1792      \n",
      "                                                                 \n",
      " block1_conv2 (Conv2D)       (None, 224, 224, 64)      36928     \n",
      "                                                                 \n",
      " block1_pool (MaxPooling2D)  (None, 112, 112, 64)      0         \n",
      "                                                                 \n",
      " block2_conv1 (Conv2D)       (None, 112, 112, 128)     73856     \n",
      "                                                                 \n",
      " block2_conv2 (Conv2D)       (None, 112, 112, 128)     147584    \n",
      "                                                                 \n",
      " block2_pool (MaxPooling2D)  (None, 56, 56, 128)       0         \n",
      "                                                                 \n",
      " block3_conv1 (Conv2D)       (None, 56, 56, 256)       295168    \n",
      "                                                                 \n",
      " block3_conv2 (Conv2D)       (None, 56, 56, 256)       590080    \n",
      "                                                                 \n",
      " block3_conv3 (Conv2D)       (None, 56, 56, 256)       590080    \n",
      "                                                                 \n",
      " block3_pool (MaxPooling2D)  (None, 28, 28, 256)       0         \n",
      "                                                                 \n",
      " block4_conv1 (Conv2D)       (None, 28, 28, 512)       1180160   \n",
      "                                                                 \n",
      " block4_conv2 (Conv2D)       (None, 28, 28, 512)       2359808   \n",
      "                                                                 \n",
      " block4_conv3 (Conv2D)       (None, 28, 28, 512)       2359808   \n",
      "                                                                 \n",
      " block4_pool (MaxPooling2D)  (None, 14, 14, 512)       0         \n",
      "                                                                 \n",
      " block5_conv1 (Conv2D)       (None, 14, 14, 512)       2359808   \n",
      "                                                                 \n",
      " block5_conv2 (Conv2D)       (None, 14, 14, 512)       2359808   \n",
      "                                                                 \n",
      " block5_conv3 (Conv2D)       (None, 14, 14, 512)       2359808   \n",
      "                                                                 \n",
      " block5_pool (MaxPooling2D)  (None, 7, 7, 512)         0         \n",
      "                                                                 \n",
      " global_average_pooling2d (G  (None, 512)              0         \n",
      " lobalAveragePooling2D)                                          \n",
      "                                                                 \n",
      " dense (Dense)               (None, 1024)              525312    \n",
      "                                                                 \n",
      " dropout (Dropout)           (None, 1024)              0         \n",
      "                                                                 \n",
      " dense_1 (Dense)             (None, 1)                 1025      \n",
      "                                                                 \n",
      "=================================================================\n",
      "Total params: 15,241,025\n",
      "Trainable params: 526,337\n",
      "Non-trainable params: 14,714,688\n",
      "_________________________________________________________________\n"
     ]
    }
   ],
   "source": [
    "# Print the model summary\n",
    "model.summary()"
   ]
  },
  {
   "cell_type": "markdown",
   "id": "3b3fa14c-9845-425b-bd34-1a67c5f7f156",
   "metadata": {},
   "source": [
    "## 3. Model training"
   ]
  },
  {
   "cell_type": "code",
   "execution_count": 18,
   "id": "82e2f96a-dd10-4c06-9238-7ab1a74bdab6",
   "metadata": {
    "tags": []
   },
   "outputs": [
    {
     "name": "stdout",
     "output_type": "stream",
     "text": [
      "Epoch 1/20\n",
      "62/62 [==============================] - 225s 4s/step - loss: 0.5798 - accuracy: 0.6774 - val_loss: 0.4962 - val_accuracy: 0.7404\n",
      "Epoch 2/20\n",
      "62/62 [==============================] - 211s 3s/step - loss: 0.5013 - accuracy: 0.7480 - val_loss: 0.4423 - val_accuracy: 0.8109\n",
      "Epoch 3/20\n",
      "62/62 [==============================] - 209s 3s/step - loss: 0.4495 - accuracy: 0.7959 - val_loss: 0.4285 - val_accuracy: 0.8028\n",
      "Epoch 4/20\n",
      "62/62 [==============================] - 212s 3s/step - loss: 0.4247 - accuracy: 0.8100 - val_loss: 0.4160 - val_accuracy: 0.8249\n",
      "Epoch 5/20\n",
      "62/62 [==============================] - 1191s 19s/step - loss: 0.4529 - accuracy: 0.7863 - val_loss: 0.3991 - val_accuracy: 0.8169\n",
      "Epoch 6/20\n",
      "62/62 [==============================] - 196s 3s/step - loss: 0.4089 - accuracy: 0.8125 - val_loss: 0.3831 - val_accuracy: 0.8270\n",
      "Epoch 7/20\n",
      "62/62 [==============================] - 200s 3s/step - loss: 0.3812 - accuracy: 0.8402 - val_loss: 0.3734 - val_accuracy: 0.8229\n",
      "Epoch 8/20\n",
      "62/62 [==============================] - 203s 3s/step - loss: 0.3707 - accuracy: 0.8296 - val_loss: 0.3723 - val_accuracy: 0.8149\n",
      "Epoch 9/20\n",
      "62/62 [==============================] - 215s 3s/step - loss: 0.3635 - accuracy: 0.8448 - val_loss: 0.3618 - val_accuracy: 0.8370\n",
      "Epoch 10/20\n",
      "62/62 [==============================] - 221s 4s/step - loss: 0.3529 - accuracy: 0.8508 - val_loss: 0.3734 - val_accuracy: 0.8129\n",
      "Epoch 11/20\n",
      "62/62 [==============================] - 221s 4s/step - loss: 0.3693 - accuracy: 0.8332 - val_loss: 0.3761 - val_accuracy: 0.8350\n",
      "Epoch 12/20\n",
      "62/62 [==============================] - 229s 4s/step - loss: 0.3507 - accuracy: 0.8473 - val_loss: 0.4599 - val_accuracy: 0.7867\n",
      "Epoch 13/20\n",
      "62/62 [==============================] - 215s 3s/step - loss: 0.3591 - accuracy: 0.8402 - val_loss: 0.3471 - val_accuracy: 0.8431\n",
      "Epoch 14/20\n",
      "62/62 [==============================] - 223s 4s/step - loss: 0.3421 - accuracy: 0.8518 - val_loss: 0.3393 - val_accuracy: 0.8390\n",
      "Epoch 15/20\n",
      "62/62 [==============================] - 218s 4s/step - loss: 0.3332 - accuracy: 0.8503 - val_loss: 0.3439 - val_accuracy: 0.8370\n",
      "Epoch 16/20\n",
      "62/62 [==============================] - 216s 3s/step - loss: 0.3221 - accuracy: 0.8644 - val_loss: 0.4004 - val_accuracy: 0.8149\n",
      "Epoch 17/20\n",
      "62/62 [==============================] - 216s 3s/step - loss: 0.3204 - accuracy: 0.8624 - val_loss: 0.3833 - val_accuracy: 0.8290\n",
      "Epoch 18/20\n",
      "62/62 [==============================] - 211s 3s/step - loss: 0.3355 - accuracy: 0.8513 - val_loss: 0.3344 - val_accuracy: 0.8390\n",
      "Epoch 19/20\n",
      "62/62 [==============================] - 206s 3s/step - loss: 0.3188 - accuracy: 0.8594 - val_loss: 0.3331 - val_accuracy: 0.8390\n",
      "Epoch 20/20\n",
      "62/62 [==============================] - 211s 3s/step - loss: 0.3371 - accuracy: 0.8569 - val_loss: 0.3873 - val_accuracy: 0.8249\n"
     ]
    }
   ],
   "source": [
    "# Train the model\n",
    "history = model.fit(\n",
    "    datagen.flow(X_train, y_train, batch_size=32),\n",
    "    validation_data=(X_val, y_val),\n",
    "    epochs=20,\n",
    "    steps_per_epoch=len(X_train) // 32,\n",
    "    verbose=1\n",
    ")"
   ]
  },
  {
   "cell_type": "markdown",
   "id": "b9b71bf5-24b4-4673-8857-e24f6837b041",
   "metadata": {},
   "source": [
    "## 4. Model Evaluation"
   ]
  },
  {
   "cell_type": "code",
   "execution_count": 19,
   "id": "86b2e306-a256-4e65-a33a-8d292365d8f3",
   "metadata": {
    "tags": []
   },
   "outputs": [
    {
     "name": "stdout",
     "output_type": "stream",
     "text": [
      "Validation Accuracy: 0.82\n"
     ]
    }
   ],
   "source": [
    "# Evaluate the model\n",
    "loss, accuracy = model.evaluate(X_val, y_val, verbose=0)\n",
    "print(f'Validation Accuracy: {accuracy:.2f}')"
   ]
  },
  {
   "cell_type": "code",
   "execution_count": 20,
   "id": "189de7e6-5464-4979-92b3-02ef8df61895",
   "metadata": {
    "tags": []
   },
   "outputs": [],
   "source": [
    "# Save the model\n",
    "model.save('covid19_ct_detection_model.h5')"
   ]
  },
  {
   "cell_type": "code",
   "execution_count": 24,
   "id": "ba25df47-f534-453e-9167-4ef5993eb6c8",
   "metadata": {
    "tags": []
   },
   "outputs": [],
   "source": [
    "# Evaluate the model\n",
    "from sklearn.metrics import classification_report, roc_auc_score"
   ]
  },
  {
   "cell_type": "code",
   "execution_count": 25,
   "id": "441f68f7-0984-4b0a-a59c-104d6ad6703d",
   "metadata": {
    "tags": []
   },
   "outputs": [
    {
     "name": "stdout",
     "output_type": "stream",
     "text": [
      "16/16 [==============================] - 39s 2s/step\n"
     ]
    }
   ],
   "source": [
    "# Predict on validation data\n",
    "y_pred = model.predict(X_val)\n",
    "y_pred_classes = (y_pred > 0.5).astype(\"int32\")"
   ]
  },
  {
   "cell_type": "code",
   "execution_count": 26,
   "id": "1fcd250a-88c4-4521-8e78-82630211c797",
   "metadata": {
    "tags": []
   },
   "outputs": [
    {
     "name": "stdout",
     "output_type": "stream",
     "text": [
      "              precision    recall  f1-score   support\n",
      "\n",
      "           0       0.75      0.97      0.85       246\n",
      "           1       0.96      0.69      0.80       251\n",
      "\n",
      "    accuracy                           0.82       497\n",
      "   macro avg       0.85      0.83      0.82       497\n",
      "weighted avg       0.85      0.82      0.82       497\n",
      "\n",
      "ROC-AUC: 0.9353318433582742\n"
     ]
    }
   ],
   "source": [
    "# Calculate metrics\n",
    "print(classification_report(y_val, y_pred_classes))\n",
    "print(\"ROC-AUC:\", roc_auc_score(y_val, y_pred))"
   ]
  },
  {
   "cell_type": "markdown",
   "id": "78babfd4-d8f2-420f-8553-d2b8c9c50a62",
   "metadata": {},
   "source": [
    "## 5. Plotting the Results"
   ]
  },
  {
   "cell_type": "code",
   "execution_count": 21,
   "id": "1e041add-9e8d-4d13-a200-ef89e6fb453a",
   "metadata": {
    "tags": []
   },
   "outputs": [],
   "source": [
    "# Plot training & validation accuracy and loss\n",
    "import matplotlib.pyplot as plt"
   ]
  },
  {
   "cell_type": "code",
   "execution_count": 22,
   "id": "0a750bae-22e0-43aa-b08c-2b26cfd812c7",
   "metadata": {
    "tags": []
   },
   "outputs": [
    {
     "data": {
      "text/plain": [
       "Text(0.5, 1.0, 'Accuracy')"
      ]
     },
     "execution_count": 22,
     "metadata": {},
     "output_type": "execute_result"
    },
    {
     "data": {
      "image/png": "[encoded data removed]",
      "text/plain": [
       "<Figure size 1200x400 with 1 Axes>"
      ]
     },
     "metadata": {},
     "output_type": "display_data"
    }
   ],
   "source": [
    "plt.figure(figsize=(12, 4))\n",
    "plt.subplot(1, 2, 1)\n",
    "plt.plot(history.history['accuracy'], label='Training Accuracy')\n",
    "plt.plot(history.history['val_accuracy'], label='Validation Accuracy')\n",
    "plt.legend()\n",
    "plt.title('Accuracy')"
   ]
  },
  {
   "cell_type": "code",
   "execution_count": 23,
   "id": "39592faa-cdbf-46b7-a192-fb98769467b9",
   "metadata": {
    "tags": []
   },
   "outputs": [
    {
     "data": {
      "image/png": "[encoded data removed]",
      "text/plain": [
       "<Figure size 640x480 with 1 Axes>"
      ]
     },
     "metadata": {},
     "output_type": "display_data"
    }
   ],
   "source": [
    "plt.subplot(1, 2, 2)\n",
    "plt.plot(history.history['loss'], label='Training Loss')\n",
    "plt.plot(history.history['val_loss'], label='Validation Loss')\n",
    "plt.legend()\n",
    "plt.title('Loss')\n",
    "plt.show()"
   ]
  }
 ],
 "metadata": {
  "kernelspec": {
   "display_name": "Python 3 (ipykernel)",
   "language": "python",
   "name": "python3"
  },
  "language_info": {
   "codemirror_mode": {
    "name": "ipython",
    "version": 3
   },
   "file_extension": ".py",
   "mimetype": "text/x-python",
   "name": "python",
   "nbconvert_exporter": "python",
   "pygments_lexer": "ipython3",
   "version": "3.11.5"
  }
 },
 "nbformat": 4,
 "nbformat_minor": 5
}
